{
 "cells": [
  {
   "cell_type": "code",
   "execution_count": 3,
   "metadata": {},
   "outputs": [
    {
     "name": "stdout",
     "output_type": "stream",
     "text": [
      "Defaulting to user installation because normal site-packages is not writeable\n",
      "Collecting numexpr\n",
      "  Downloading numexpr-2.8.8-cp39-cp39-macosx_11_0_arm64.whl (91 kB)\n",
      "\u001b[K     |████████████████████████████████| 91 kB 1.2 MB/s eta 0:00:01\n",
      "\u001b[?25hRequirement already satisfied: numpy>=1.13.3 in /Users/luizbueno/Library/Python/3.9/lib/python/site-packages (from numexpr) (1.26.2)\n",
      "Installing collected packages: numexpr\n",
      "Successfully installed numexpr-2.8.8\n",
      "\u001b[33mWARNING: You are using pip version 21.2.4; however, version 23.3.2 is available.\n",
      "You should consider upgrading via the '/Library/Developer/CommandLineTools/usr/bin/python3 -m pip install --upgrade pip' command.\u001b[0m\n",
      "Note: you may need to restart the kernel to use updated packages.\n"
     ]
    }
   ],
   "source": [
    "pip install numexpr\n"
   ]
  },
  {
   "cell_type": "code",
   "execution_count": 1,
   "metadata": {},
   "outputs": [],
   "source": [
    "import logging\n",
    "import sys\n",
    "import os\n",
    "\n",
    "logging.basicConfig(stream=sys.stdout, level=logging.INFO)\n",
    "logging.getLogger().addHandler(logging.StreamHandler(stream=sys.stdout))"
   ]
  },
  {
   "cell_type": "code",
   "execution_count": 4,
   "metadata": {},
   "outputs": [],
   "source": [
    "import os\n",
    "os.environ['NUMEXPR_MAX_THREADS'] = '4'\n",
    "os.environ['NUMEXPR_NUM_THREADS'] = '2'\n",
    "import numexpr as ne"
   ]
  },
  {
   "cell_type": "code",
   "execution_count": 5,
   "metadata": {},
   "outputs": [],
   "source": [
    "import os\n",
    "os.environ[\"OPENAI_API_KEY\"] = \"sk-***\"\n",
    "import openai\n",
    "openai.api_key = \"sk-***\""
   ]
  },
  {
   "cell_type": "code",
   "execution_count": 7,
   "metadata": {},
   "outputs": [
    {
     "name": "stdout",
     "output_type": "stream",
     "text": [
      "INFO:llama_index.indices.loading:Loading all indices.\n",
      "Loading all indices.\n",
      "loading from disk\n"
     ]
    }
   ],
   "source": [
    "from llama_index import VectorStoreIndex, SimpleDirectoryReader, StorageContext, load_index_from_storage\n",
    "\n",
    "try:\n",
    "    storage_context = StorageContext.from_defaults(persist_dir='/Users/luizbueno/Downloads/LamaIndex RAG/data')\n",
    "    index = load_index_from_storage(storage_context)\n",
    "    print('loading from disk')\n",
    "except:\n",
    "    documents = SimpleDirectoryReader('data').load_data()\n",
    "    index = VectorStoreIndex.from_documents(documents)\n",
    "    index.storage_context.persist(persist_dir='/Users/luizbueno/Downloads/LamaIndex RAG/data')\n",
    "    print('persisting to disk')"
   ]
  },
  {
   "cell_type": "code",
   "execution_count": 8,
   "metadata": {},
   "outputs": [],
   "source": [
    "openai.log = \"debug\""
   ]
  },
  {
   "cell_type": "code",
   "execution_count": 23,
   "metadata": {},
   "outputs": [],
   "source": [
    "from llama_index.prompts import PromptTemplate\n",
    "\n",
    "text_qa_template_str = (\n",
    "    \"Context information is below.\\n\"\n",
    "    \"---------------------\\n\"\n",
    "    \"{context_str}\\n\"\n",
    "    \"---------------------\\n\"\n",
    "    \"\"\"Context:\n",
    "    Timestamp: {timestamp}\n",
    "    Time: {time}\n",
    "    Day period: {day_period}\n",
    "    Day of Week: {day_of_week}\n",
    "    Month Day: {month_day}\n",
    "    Month: {month}\n",
    "    Dew Point Process: {dew_point_process}\n",
    "    Dew Point Contactor: {dew_point_contactor}\n",
    "    Pressure Process Contactor: {pressure_process_contactor}\n",
    "    Pressure Natural Gas Moisture Process: {pressure_natural_gas_moisture_process}\n",
    "    Natural Gas Moisture Contactor: {natural_gas_moisture_contactor}\n",
    "    Temperature Process Contactor: {temperature_process_contactor}\n",
    "    Glycol Moisture Process: {glycol_moisture_process}\n",
    "    Glycol Moisture Contactor: {glycol_moisture_contactor}\n",
    "    Water Inlet Temperature Process: {water_inlet_temperature_process}\n",
    "    Water Inlet Temperature Glycol: {water_inlet_temperature_glycol}\n",
    "    Inlet Temperature Process Glycol: {inlet_temperature_process_glycol}\n",
    "    Out Glycol Temperature Process: {out_glycol_temperature_process}\n",
    "    Out Glycol Temperature: {out_glycol_temperature}\n",
    "    Temperature Process: {temperature_process}\n",
    "    Out Water Temperature Process: {out_water_temperature_process}\n",
    "    Out Water Temperature: {out_water_temperature}\n",
    "    Stripping Gas Process: {stripping_gas_process}\n",
    "    Stripping Gas Pressure Process: {stripping_gas_pressure_process}\n",
    "    Pressure Dry Glycol Process: {pressure_dry_glycol_process}\n",
    "    Dry Glycol Process: {dry_glycol_process}\n",
    "    Glycol Flow Process: {glycol_flow_process}\n",
    "\n",
    "    Questions:\n",
    "    1. What was the Dew Point Process at {timestamp}?\n",
    "    2. What was the Day of Week on {timestamp}?\n",
    "    3. What is the Pressure Natural Gas Moisture Process at {timestamp}?\n",
    "    4. ...\n",
    "\n",
    "    \"\"\"\n",
    "    \"answer the question: {query_str}\\n\"\n",
    "    \"If the context isn't helpful, you can also answer the question on your own.\\n\"\n",
    ")\n",
    "\n",
    "text_qa_template = PromptTemplate(text_qa_template_str)"
   ]
  },
  {
   "cell_type": "code",
   "execution_count": 24,
   "metadata": {},
   "outputs": [],
   "source": [
    "text_qa_template_str = (\n",
    "    \"\"\"\n",
    "    \"timestamp\": \"11-01-2023 00:02:00\",\n",
    "    \"time\": \"Night\",\n",
    "    \"day_period\": \"Wednesday\",\n",
    "    \"day_of_week\": \"11 January\",\n",
    "    \"month_day\": \"-5.621632\",\n",
    "    \"month\": \"Don't Criticize\",\n",
    "    \"dew_point_process\": \"-5.621632\",\n",
    "    \"dew_point_contactor\": \"Don't Criticize\",\n",
    "    \"pressure_process_contactor\": \"161.305446\",\n",
    "    \"pressure_natural_gas_moisture_process\": \"Low\",\n",
    "    \"natural_gas_moisture_contactor\": \"2.71\",\n",
    "    \"temperature_process_contactor\": \"Normal\",\n",
    "    \"glycol_moisture_process\": \"42.6\",\n",
    "    \"glycol_moisture_contactor\": \"Low\",\n",
    "    \"water_inlet_temperature_process\": \"0.67\",\n",
    "    \"water_inlet_temperature_glycol\": \"Efficient\",\n",
    "    \"inlet_temperature_process_glycol\": \"34.56\",\n",
    "    \"out_glycol_temperature_process\": \"Normal\",\n",
    "    \"out_glycol_temperature\": \"52.67\",\n",
    "    \"temperature_process\": \"Low\",\n",
    "    \"out_water_temperature_process\": \"40.75\",\n",
    "    \"out_water_temperature\": \"Good\",\n",
    "    \"stripping_gas_process\": \"183.626183\",\n",
    "    \"stripping_gas_pressure_process\": \"Keep\",\n",
    "    \"pressure_dry_glycol_process\": \"58.355965\",\n",
    "    \"dry_glycol_process\": \"Bad\",\n",
    "    \"glycol_flow_process\": \"107.583807\", \"\"\"\n",
    "    \"---------------------\\n\"\n",
    "    \"{context_str}\\n\"\n",
    "    \"---------------------\\n\"\n",
    "    \"Answer the question: {query_str}\\n\"\n",
    ")\n",
    "\n",
    "text_qa_template = PromptTemplate(text_qa_template_str)"
   ]
  },
  {
   "cell_type": "code",
   "execution_count": 25,
   "metadata": {},
   "outputs": [
    {
     "name": "stdout",
     "output_type": "stream",
     "text": [
      "INFO:httpx:HTTP Request: POST https://api.openai.com/v1/embeddings \"HTTP/1.1 200 OK\"\n",
      "HTTP Request: POST https://api.openai.com/v1/embeddings \"HTTP/1.1 200 OK\"\n",
      "INFO:httpx:HTTP Request: POST https://api.openai.com/v1/chat/completions \"HTTP/1.1 200 OK\"\n",
      "HTTP Request: POST https://api.openai.com/v1/chat/completions \"HTTP/1.1 200 OK\"\n"
     ]
    }
   ],
   "source": [
    "response = index.as_query_engine(\n",
    "    text_qa_template = text_qa_template \n",
    ").query(\"How was Dew Point on 01-09-2023?\")"
   ]
  },
  {
   "cell_type": "code",
   "execution_count": 26,
   "metadata": {},
   "outputs": [
    {
     "name": "stdout",
     "output_type": "stream",
     "text": [
      "The Dew Point on 01-09-2023 was -3.075649.\n"
     ]
    }
   ],
   "source": [
    "print(response)"
   ]
  },
  {
   "cell_type": "code",
   "execution_count": 27,
   "metadata": {},
   "outputs": [
    {
     "name": "stdout",
     "output_type": "stream",
     "text": [
      "INFO:httpx:HTTP Request: POST https://api.openai.com/v1/embeddings \"HTTP/1.1 200 OK\"\n",
      "HTTP Request: POST https://api.openai.com/v1/embeddings \"HTTP/1.1 200 OK\"\n",
      "INFO:httpx:HTTP Request: POST https://api.openai.com/v1/chat/completions \"HTTP/1.1 200 OK\"\n",
      "HTTP Request: POST https://api.openai.com/v1/chat/completions \"HTTP/1.1 200 OK\"\n",
      "On 01-09-2023, there was one incident reported. Here are the details of the incident:\n",
      "\n",
      "- Timestamp: 01-09-2023 00:00:00\n",
      "- Time: Night\n",
      "- Day period: Friday\n",
      "- Day of Week: 1 September\n",
      "- Month Day: -3.075649\n",
      "- Month: Don't Criticize\n",
      "- Dew Point Process: -3.075649\n",
      "- Dew Point Contactor: Don't Criticize\n",
      "- Pressure Process Contactor: 172.956649\n",
      "- Pressure Natural Gas Moisture Process: Low\n",
      "- Natural Gas Moisture Contactor: 1.38\n",
      "- Temperature Process Contactor: Efficient\n",
      "- Glycol Moisture Process: 34.78\n",
      "- Glycol Moisture Contactor: Normal\n",
      "- Water Inlet Temperature Process: 52.05\n",
      "- Water Inlet Temperature Glycol: Low\n",
      "- Inlet Temperature Process Glycol: 47.64\n",
      "- Out Glycol Temperature Process: Good\n",
      "- Out Glycol Temperature: 175.224011\n",
      "- Temperature Process: Not Keep\n",
      "- Out Water Temperature Process: 43.727277\n",
      "- Out Water Temperature: Bad\n",
      "- Stripping Gas Process: 96.216138\n",
      "- Stripping Gas Pressure Process: Normal\n",
      "- Pressure Dry Glycol Process: 29.568994\n",
      "- Dry Glycol Process: Normal\n",
      "- Glycol Flow Process: 0.79\n",
      "\n",
      "This incident was reported in the file \"data/df_100_PDF.pdf\" on page 1.\n"
     ]
    }
   ],
   "source": [
    "response = index.as_query_engine(\n",
    "    text_qa_template = text_qa_template \n",
    ").query(\"Give me the complete report of the incidents on 01-09-2023?\")\n",
    "print(response)"
   ]
  },
  {
   "cell_type": "code",
   "execution_count": 29,
   "metadata": {},
   "outputs": [
    {
     "name": "stdout",
     "output_type": "stream",
     "text": [
      "[NodeWithScore(node=TextNode(id_='304117a8-8296-4fd7-a608-abf1294ed909', embedding=None, metadata={'page_label': '1', 'file_name': 'df_100_PDF.pdf', 'file_path': 'data/df_100_PDF.pdf', 'file_type': 'application/pdf', 'file_size': 88384, 'creation_date': '2024-01-17', 'last_modified_date': '2024-01-09', 'last_accessed_date': '2024-01-17'}, excluded_embed_metadata_keys=['file_name', 'file_type', 'file_size', 'creation_date', 'last_modified_date', 'last_accessed_date'], excluded_llm_metadata_keys=['file_name', 'file_type', 'file_size', 'creation_date', 'last_modified_date', 'last_accessed_date'], relationships={<NodeRelationship.SOURCE: '1'>: RelatedNodeInfo(node_id='bdb949d7-be97-4364-b7df-7cdf2ec6c91a', node_type=<ObjectType.DOCUMENT: '4'>, metadata={'page_label': '1', 'file_name': 'df_100_PDF.pdf', 'file_path': 'data/df_100_PDF.pdf', 'file_type': 'application/pdf', 'file_size': 88384, 'creation_date': '2024-01-17', 'last_modified_date': '2024-01-09', 'last_accessed_date': '2024-01-17'}, hash='fdfc65e608a0f628e9fd39fb8c911779748bca8c57f60ab68199b262add46259'), <NodeRelationship.PREVIOUS: '2'>: RelatedNodeInfo(node_id='1aa3d337-f17d-4283-b1ad-576400f3adae', node_type=<ObjectType.TEXT: '1'>, metadata={'page_label': '1', 'file_name': 'df_100_PDF.pdf', 'file_path': 'data/df_100_PDF.pdf', 'file_type': 'application/pdf', 'file_size': 88384, 'creation_date': '2024-01-17', 'last_modified_date': '2024-01-09', 'last_accessed_date': '2024-01-17'}, hash='4fe5ef5a8cb6ed5a81c78b539cd930a0788f0f74a471a5e346814fe49744546d'), <NodeRelationship.NEXT: '3'>: RelatedNodeInfo(node_id='feb375c4-0ec3-40f6-9c3d-bf8e5c5fa245', node_type=<ObjectType.TEXT: '1'>, metadata={}, hash='072ec5a36a40a31f359883ded437aa1e3cc31bcaeec59897f75d9a869cf3cd91')}, hash='9b15840142fe1308786b5de514930544eaed56664c92564ddac9921259161329', text=\"545922 Ok\\n01-04-2023 00:44:00 Night Saturday 1 April -26.092476 Criticize 179.644468 Normal 3.81 Highly Critical 43.9 Low 1.38 Inefficient 30.36 Normal 52.81 Low 40.86 Good 176.759772 Not Keep 56.189877 Bad 136.416368 Normal 29.10248 Normal Pressure 1.87 Worrying 1.284828 Changed\\n01-09-2023 00:46:00 Night Friday 1 September -7.789073 Don't Criticize 166.538515 Low 1.71 Normal 40.9 Low 0.38 Efficient 36.9 Normal 51.26 Low 48.94 Good 177.774516 Not Keep 51.948917 Bad 113.384035 Normal 30.511768 Normal Pressure 0.88 Not Worrying 2.331206 Changed\\n27-10-2023 00:48:00 Night Friday 27 October -29.970223 Criticize 184.99948 High 1.72 Normal 45.0 Normal 0.21 Efficient 29.28 Unwanted 60.59 Normal 49.15 Good 180.273013 Keep 53.65107 Bad 114.423002 Normal 34.372238 Normal Pressure 0.72 Not Worrying 2.300712 Changed\\n22-12-2022 00:50:00 Night Thursday 22 December -4.060894 Don't Criticize 170.55307 Normal 3.81 Highly Critical 45.8 Normal 1.88 Inefficient 31.27 Normal 72.27 High 45.01 Good 182.211852 Keep 52.984864 Bad 90.420096 Normal 33.576097 Normal Pressure 1.13 Not Worrying 2.367689 Changed\\n31-10-2023 00:52:00 Night Tuesday 31 October -26.287443 Criticize 162.879585 Low 2.82 Normal 41.9 Low 0.86 Efficient 35.32 Normal 65.11 Normal 47.63 Good 180.739647 Keep 44.472493 Bad 84.881613 Normal 29.032323 Normal Pressure 0.22 Not Worrying 1.745114 Ok\\n18-06-2023 00:54:00 Night Sunday 18 June -14.949459 Don't Criticize 170.542602 Normal 2.32 Normal 40.4 Low 0.32 Efficient 25.65 Unwanted 59.14 Low 42.75 Good 179.472825 Not Keep 57.408797 Bad 123.608131 Normal 28.933335 Normal Pressure 0.4 Not Worrying 2.357008 Changed\\n30-12-2023 00:56:00 Night Saturday 30 December -0.329366 Don't Criticize 174.13384 Normal 3.23 Critical 49.8 High 0.38 Efficient 34.9 Normal 60.44 Normal 43.03 Good 182.058784 Keep 62.33681 Bad 120.003644 Normal 25.318454 Normal Pressure 1.85 Worrying 1.715338 Ok\\n10-12-2022 00:58:00 Night Saturday 10 December -15.096169 Don't Criticize 166.574634 Low 3.97 Highly Critical 47.2 High 1.06 Efficient 41.12 Problem 66.43 Normal 48.47 Good 175.08251 Not Keep 49.112143 Bad 112.083144 Normal 32.063548 Normal Pressure 0.89 Not Worrying 1.946798 Ok\\n03-03-2023 01:00:00 Night Friday 3 March -7.715879 Don't Criticize 171.752946 Normal 2.81 Normal 49.7 High 1.38 Inefficient 39.46 Normal 58.05 Low 45.48 Good 181.394939 Keep 60.90864 Bad 148.288887 Normal 31.308278 Normal Pressure 0.17 Not Worrying 1.967868 Ok\\n15-07-2023 01:02:00 Night Saturday 15 July -8.289812 Don't Criticize 183.4738 High 2.63 Normal 48.5 High 0.6 Efficient 27.46 Unwanted 53.52 Low 48.99 Good 181.\", start_char_idx=6548, end_char_idx=9137, text_template='{metadata_str}\\n\\n{content}', metadata_template='{key}: {value}', metadata_seperator='\\n'), score=0.74928084385411), NodeWithScore(node=TextNode(id_='4c8e3c75-e71f-4229-9643-9bea9d3a9552', embedding=None, metadata={'page_label': '1', 'file_name': 'df_100_PDF.pdf', 'file_path': 'data/df_100_PDF.pdf', 'file_type': 'application/pdf', 'file_size': 88384, 'creation_date': '2024-01-17', 'last_modified_date': '2024-01-09', 'last_accessed_date': '2024-01-17'}, excluded_embed_metadata_keys=['file_name', 'file_type', 'file_size', 'creation_date', 'last_modified_date', 'last_accessed_date'], excluded_llm_metadata_keys=['file_name', 'file_type', 'file_size', 'creation_date', 'last_modified_date', 'last_accessed_date'], relationships={<NodeRelationship.SOURCE: '1'>: RelatedNodeInfo(node_id='bdb949d7-be97-4364-b7df-7cdf2ec6c91a', node_type=<ObjectType.DOCUMENT: '4'>, metadata={'page_label': '1', 'file_name': 'df_100_PDF.pdf', 'file_path': 'data/df_100_PDF.pdf', 'file_type': 'application/pdf', 'file_size': 88384, 'creation_date': '2024-01-17', 'last_modified_date': '2024-01-09', 'last_accessed_date': '2024-01-17'}, hash='fdfc65e608a0f628e9fd39fb8c911779748bca8c57f60ab68199b262add46259'), <NodeRelationship.PREVIOUS: '2'>: RelatedNodeInfo(node_id='88214798-c330-4f46-849a-83d7a1f884ac', node_type=<ObjectType.TEXT: '1'>, metadata={'file_path': 'data/df_100.sqlite', 'file_name': 'df_100.sqlite', 'file_type': None, 'file_size': 45056, 'creation_date': '2024-01-17', 'last_modified_date': '2024-01-15', 'last_accessed_date': '2024-01-17'}, hash='e5382642c91e2b689a9309b6a18f92b165362d0ed4dd1546a0404cf8299de672'), <NodeRelationship.NEXT: '3'>: RelatedNodeInfo(node_id='bac0561b-d5c7-4e9f-9898-94d01586cd64', node_type=<ObjectType.TEXT: '1'>, metadata={}, hash='563e40f1746bb23bbd8817d8e8cbc1e1294ca0e29f7fb44380f624cd22c5e7df')}, hash='046ae1461163559b31ac7540fa1de4cd1c31f7de103c27fa8ac02224afcb61b0', text=\"Timestamp Time Day period Day of Week Month Day Month Dew Point Process Dew Point Contactor Pressure Process Contactor Pressure Natural Gas Moisture Process Natural Gas Moisture Contactor T emperature Process Contactor T emperature Glycol Moisture Process Glycol Moisture Water Inlet T emperature Process Water Inlet T emperature Glycol Inlet T emperature Process Glycol Inlet T emperature Out Glycol T emperature Process Out Glycol T emperature T emperature Process T emperature Out Water T emperature Process Out Water T emperature Stripping Gas Process Stripping Gas Pressure Process Pressure Dry Glycol Process Dry Glycol Glycol Flow Process Glycol Flow\\n01-09-2023 00:00:00 Night Friday 1 September -3.075649 Don't Criticize 172.956649 Normal 3.45 Critical 42.2 Low 0.8 Efficient 34.78 Normal 52.05 Low 47.64 Good 175.224011 Not Keep 43.727277 Bad 96.216138 Normal 29.568994 Normal Pressure 1.63 Worrying 1.408146 Changed\\n11-01-2023 00:02:00 Night Wednesday 11 January -5.621632 Don't Criticize 161.305446 Low 2.71 Normal 42.6 Low 0.67 Efficient 34.56 Normal 52.67 Low 40.75 Good 183.626183 Keep 58.355965 Bad 107.583807 Normal 33.85637 Normal Pressure 0.79 Not Worrying 1.925554 Ok\\n14-03-2022 00:04:00 Night Monday 14 March 2.344799 Don't Criticize 168.959707 Low 1.57 Normal 44.3 Low 1.38 Inefficient 41.38 Problem 64.83 Normal 49.85 Good 178.122859 Not Keep 61.444758 Bad 127.133079 Normal 25.577773 Normal Pressure 0.62 Not Worrying 1.759292 Ok\\n30-06-2023 00:06:00 Night Friday 30 June -13.045739 Don't Criticize 162.760824 Low 1.9 Normal 43.7 Low 0.16 Efficient 35.41 Normal 66.53 Normal 42.09 Good 184.73099 Keep 52.082367 Bad 145.307027 Normal 30.228239 Normal Pressure 1.0 Not Worrying 2.456668 Changed\\n20-03-2022 00:08:00 Night Sunday 20 March -25.433469 Criticize 161.544716 Low 3.44 Critical 41.2 Low 0.91 Efficient 38.37 Normal 54.3 Low 43.35 Good 178.573499 Not Keep 55.110362 Bad 71.420428 Normal 27.722888 Normal Pressure 1.58 Not Worrying 1.061682 Changed\\n15-02-2022 00:10:00 Night Tuesday 15 February -20.537433 Don't Criticize 171.457455 Normal 2.02 Normal 47.5 High 1.59 Inefficient 25.59 Unwanted 77.25 High 42.87 Good 183.007829 Keep 41.919845 Bad 139.691601 Normal 32.327398 Normal Pressure 0.78 Not Worrying 1.375785 Changed\\n09-11-2023 00:12:00 Night Thursday 9 November 2.34071 Don't Criticize 179.322329 Normal 2.54 Normal 43.8 Low 0.8 Efficient 31.54 Normal 58.7 Low 45.47 Good 182.449737 Keep 48.540813 Bad 98.653426 Normal 25.087911 Normal Pressure 1.1 Not Worrying 1.552341 Ok\\n09-04-2022 00:14:00 Night Saturday 9 April 0.593364 Don't Criticize 177.388141 Normal 1.71 Normal 48.8 High 0.9 Efficient 28.93 Unwanted 75.44 High 41.63 Good 178.966732 Not Keep 42.785739 Bad 145.896947 Normal 29.650457 Normal Pressure 0.46 Not Worrying 1.721832 Ok\\n20-07-2023 00:16:00 Night Thursday 20 July -9.36048 Don't Criticize 174.250242 Normal 2.32 Normal 48.\", start_char_idx=0, end_char_idx=2878, text_template='{metadata_str}\\n\\n{content}', metadata_template='{key}: {value}', metadata_seperator='\\n'), score=0.7428388342063452)]\n"
     ]
    }
   ],
   "source": [
    "print(response.source_nodes)"
   ]
  },
  {
   "cell_type": "code",
   "execution_count": 30,
   "metadata": {},
   "outputs": [
    {
     "name": "stdout",
     "output_type": "stream",
     "text": [
      "Final Response: On 01-09-2023, there was one incident reported. Here\n",
      "are the details of the incident:  - Timestamp: 01-09-2023 00:00:00 -\n",
      "Time: Night - Day period: Friday - Day of Week: 1 September - Month\n",
      "Day: -3.075649 - Month: Don't Criticize - Dew Point Process: -3.075649\n",
      "- Dew Point Contactor: Don't Criticize - Pressure Process Contactor:\n",
      "172.956649 - Pressure Natural Gas Moisture Process: Low - Natural Gas\n",
      "Moisture Contactor: 1.38 - Temperature Process Contactor: Efficient -\n",
      "Glycol Moisture Process: 34.78 - Glycol Moisture Contactor: Normal -\n",
      "Water Inlet Temperature Process: 52.05 - Water Inlet Temperature\n",
      "Glycol: Low - Inlet Temperature Process Glycol: 47.64 - Out Glycol\n",
      "Temperature Process: Good - Out Glycol Temperature: 175.224011 -\n",
      "Temperature Process: Not Keep - Out Water Temperature Process:\n",
      "43.727277 - Out Water Temperature: Bad - Stripping Gas Process:\n",
      "96.216138 - Stripping Gas Pressure Process: Normal - Pressure Dry\n",
      "Glycol Process: 29.568994 - Dry Glycol Process: Normal - Glycol Flow\n",
      "Process: 0.79  This incident was reported in the file\n",
      "\"data/df_100_PDF.pdf\" on page 1.\n",
      "______________________________________________________________________\n",
      "Source Node 1/2\n",
      "Node ID: 304117a8-8296-4fd7-a608-abf1294ed909\n",
      "Similarity: 0.74928084385411\n",
      "Text: 545922 Ok 01-04-2023 00:44:00 Night Saturday 1 April -26.092476\n",
      "Criticize 179.644468 Normal 3.81 Highly Critical 43.9 Low 1.38\n",
      "Inefficient 30.36 Normal 52.81 Low 40.86 Good 176.759772 Not Keep\n",
      "56.189877 Bad 136.416368 Normal 29.10248 Normal Pressure 1.87 Worrying\n",
      "1.284828 Changed 01-09-2023 00:46:00 Night Friday 1 September\n",
      "-7.789073 Don't Criti...\n",
      "______________________________________________________________________\n",
      "Source Node 2/2\n",
      "Node ID: 4c8e3c75-e71f-4229-9643-9bea9d3a9552\n",
      "Similarity: 0.7428388342063452\n",
      "Text: Timestamp Time Day period Day of Week Month Day Month Dew Point\n",
      "Process Dew Point Contactor Pressure Process Contactor Pressure\n",
      "Natural Gas Moisture Process Natural Gas Moisture Contactor T\n",
      "emperature Process Contactor T emperature Glycol Moisture Process\n",
      "Glycol Moisture Water Inlet T emperature Process Water Inlet T\n",
      "emperature Glycol Inlet T em...\n"
     ]
    }
   ],
   "source": [
    "from llama_index.response.pprint_utils import pprint_response\n",
    "pprint_response(response, show_source=True)"
   ]
  },
  {
   "cell_type": "code",
   "execution_count": null,
   "metadata": {},
   "outputs": [],
   "source": []
  }
 ],
 "metadata": {
  "kernelspec": {
   "display_name": "Python 3 (ipykernel)",
   "language": "python",
   "name": "python3"
  },
  "language_info": {
   "codemirror_mode": {
    "name": "ipython",
    "version": 3
   },
   "file_extension": ".py",
   "mimetype": "text/x-python",
   "name": "python",
   "nbconvert_exporter": "python",
   "pygments_lexer": "ipython3",
   "version": "3.11.5"
  }
 },
 "nbformat": 4,
 "nbformat_minor": 2
}
